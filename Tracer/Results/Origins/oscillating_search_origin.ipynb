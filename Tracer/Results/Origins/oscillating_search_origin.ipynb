{
 "cells": [
  {
   "cell_type": "code",
   "execution_count": 1,
   "metadata": {},
   "outputs": [],
   "source": [
    "import numpy as np\n",
    "import matplotlib.pyplot as plt"
   ]
  },
  {
   "cell_type": "code",
   "execution_count": 2,
   "metadata": {},
   "outputs": [],
   "source": [
    "def func(y, x0):\n",
    "    return (np.sinh(y)*np.cos(y) + np.cosh(y)*np.sin(y))/(np.sinh(y)*np.cos(y) - np.cosh(y)*np.sin(y)) - np.tanh(y*x0)*np.tan(y*x0)"
   ]
  },
  {
   "cell_type": "code",
   "execution_count": 3,
   "metadata": {},
   "outputs": [],
   "source": [
    "def get_alpha_cr(y, x0):\n",
    "    return (y*np.sinh(y)*np.cos(y)-y*np.cosh(y)*np.sin(y))/(np.cosh(y*x0)*np.cos(y*x0))"
   ]
  },
  {
   "cell_type": "code",
   "execution_count": 4,
   "metadata": {},
   "outputs": [],
   "source": [
    "EPS = 0.0001\n",
    "n_points = 1000\n",
    "x0 = 0.4\n",
    "y_start = 1.5\n",
    "y_end = 6.5"
   ]
  },
  {
   "cell_type": "code",
   "execution_count": 5,
   "metadata": {},
   "outputs": [
    {
     "data": {
      "image/png": "[encoded data removed]",
      "text/plain": [
       "<Figure size 432x288 with 1 Axes>"
      ]
     },
     "metadata": {},
     "output_type": "display_data"
    }
   ],
   "source": [
    "ys = list(np.linspace(y_start, y_end, n_points))\n",
    "fs = []\n",
    "for y in ys:\n",
    "    fs.append(func(y, x0))\n",
    "plt.plot(ys, fs)\n",
    "x1,x2,y1,y2 = plt.axis()\n",
    "plt.axis((x1,x2,-10,10))\n",
    "plt.grid()"
   ]
  },
  {
   "cell_type": "code",
   "execution_count": 6,
   "metadata": {},
   "outputs": [
    {
     "name": "stdout",
     "output_type": "stream",
     "text": [
      "3.924924924924925\n"
     ]
    }
   ],
   "source": [
    "idx = 1\n",
    "while idx < len(ys):\n",
    "    if abs(fs[idx]) > 1000000000 and abs(fs[idx-1]) > 1000000000:\n",
    "        y=(ys[idx]+ys[idx-1])/2.0\n",
    "        print(y)\n",
    "        break\n",
    "    if fs[idx]*fs[idx-1]<0:\n",
    "        y=(ys[idx]+ys[idx-1])/2.0\n",
    "        print(y)\n",
    "        break\n",
    "    idx+=1"
   ]
  },
  {
   "cell_type": "code",
   "execution_count": 7,
   "metadata": {},
   "outputs": [
    {
     "name": "stdout",
     "output_type": "stream",
     "text": [
      "x0;y;w;a\n",
      "0.4;3.924925;30.81007;-113.7142\n"
     ]
    }
   ],
   "source": [
    "w = 2.0*y*y\n",
    "a = get_alpha_cr(y, x0)\n",
    "print('x0;y;w;a')\n",
    "print('{:.7};{:.7};{:.7};{:.7}'.format(x0,y,w,a))"
   ]
  },
  {
   "cell_type": "code",
   "execution_count": null,
   "metadata": {},
   "outputs": [],
   "source": []
  }
 ],
 "metadata": {
  "kernelspec": {
   "display_name": "Python 3",
   "language": "python",
   "name": "python3"
  },
  "language_info": {
   "codemirror_mode": {
    "name": "ipython",
    "version": 3
   },
   "file_extension": ".py",
   "mimetype": "text/x-python",
   "name": "python",
   "nbconvert_exporter": "python",
   "pygments_lexer": "ipython3",
   "version": "3.6.5"
  }
 },
 "nbformat": 4,
 "nbformat_minor": 2
}
